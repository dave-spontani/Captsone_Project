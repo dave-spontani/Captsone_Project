{
 "cells": [
  {
   "cell_type": "code",
   "execution_count": 11,
   "metadata": {
    "collapsed": false
   },
   "outputs": [
   ],
   "source": [
    "import pandas as pd\n",
    "import numpy as np\n",
    "import datetime\n",
    "import random\n",
    "\n",
    "typ_dict = {0: \"UNCLASSIFIED\", 1: \"COMPLAINT\", 2: \"RECLAMATION\",\n",
    "            3: \"INFORMATION\", 4: \"INVOICE COMPLAINT\", 5: \"INTERNAL ERROR\",\n",
    "            6: \"SUGGESTION FOR IMPROVEMENT\", 7: \"RETURN CALL\"}\n",
    "\n",
    "quality_level_dict = {0: \"HIGH\", 1: \"MEDIUM\", 2: \"LOW\"}\n",
    "\n",
    "process_status_dict = {1: \"UNCLASSIFIED\", 2: \"RECEIVED\", 3: \"REJECTED\",\n",
    "                       4: \"ASSIGNMENT\", 5: \"REVIEW\", 6: \"PROCESSED\",\n",
    "                       7: \"REPLIED\", 8: \"COMPLETED\", 9: \"BINNED\",\n",
    "                       10: \"DELETED\", 12: \"EXTERNAL_SYSTEM\"}\n",
    "\n",
    "department_dict = {1: \"Customer service\", 4: \"Claims management\", 105: \"Invoice Complaints North\"}\n",
    "\n",
    "transitions = [\"Received unclassified\", \"handover\", \"classify\", \"assign\", \"forward\", \"reject\", \"complete\"]\n",
    "\n",
    "def p_values(n):\n",
    "    p = [np.random.choice(range(0, 5))]\n",
    "    for i in range(1, n):\n",
    "        p.append(np.random.choice(range(50, 100)))\n",
    "    p = p / sum(p)\n",
    "    return p\n",
    "\n",
    "def gen_process(ID):\n",
    "    character_start = customers[ID][1]\n",
    "    character_middle = customers[ID][2]\n",
    "    character_end = customers[ID][3]\n",
    "    process = [1]\n",
    "    i = 0\n",
    "    while process[i] < 8:\n",
    "        if process[i] == 1:\n",
    "            choices = [1, 2]\n",
    "            character = character_start\n",
    "        elif process[i] == 6:\n",
    "            choices = [4, 5, 6, 7, 8, 9, 10]\n",
    "            character = character_end\n",
    "        else:\n",
    "            choices = [process[i]-1, process[i], process[i]+1]\n",
    "            character = character_middle\n",
    "        process.append(np.random.choice(choices, p = character))\n",
    "        i += 1\n",
    "    return process\n",
    "\n",
    "def gen_customer(ID):\n",
    "    customer = [ID]\n",
    "    for i in [2, 3, 7]:\n",
    "        customer.append(p_values(i))\n",
    "    return customer\n",
    "\n",
    "def gen_transitions(n):\n",
    "    transition = [transitions[0]]\n",
    "    for i in range(1, n-1):\n",
    "        choice = np.random.choice(range(1, 6), p = [0.6, 0.1, 0.1, 0.1, 0.1])\n",
    "        transition.append(transitions[choice])\n",
    "    transition.append(transitions[6])\n",
    "    return transition\n",
    "\n",
    "num_customers = 100\n",
    "customers = [gen_customer(i) for i in range(num_customers)]\n",
    "calls_per_customer = np.random.poisson(lam = 6, size = num_customers)\n",
    "\n",
    "draw_from = calls_per_customer.copy()\n",
    "\n",
    "order = []\n",
    "while sum(draw_from) > 0:\n",
    "    pick_from = np.random.choice(np.array(range(len(draw_from)))[draw_from != 0])\n",
    "    draw_from[pick_from] -= 1\n",
    "    order.append(pick_from)\n",
    "\n",
    "ORDER_STATUS_process_status = []\n",
    "ORDER_STATUS_transition = []\n",
    "for i in order:\n",
    "    process_i = gen_process(i)\n",
    "    ORDER_STATUS_process_status.append(process_i)\n",
    "    ORDER_STATUS_transition.append(gen_transitions(len(process_i)))\n",
    "\n",
    "# Vehicles\n",
    "vehicles = list(range(25))\n",
    "vehicle_quality_p = [p_values(3) for i in range(25)]\n",
    "vehicle_list = [np.random.choice(vehicles) for i in range(len(order))]\n",
    "vehicle_license_plate_column = []\n",
    "quality_list = [np.random.choice([1, 2, 3], p = vehicle_quality_p[vehicle_list[i]]) for i in range(len(order))]\n",
    "quality_level_column = []\n",
    "\n",
    "\n",
    "process_status_column = []\n",
    "transition_column = []\n",
    "customer_contact_id_column = []\n",
    "type_p = p_values(8)\n",
    "typ_list = [np.random.choice(list(typ_dict.values()), p = type_p) for i in range(len(order))]\n",
    "typ_column = []\n",
    "priority_list = [np.random.choice([1, 2, 3], p = customers[order[i]][2]) for i in range(len(order))]\n",
    "priority_column = []\n",
    "service_order_id_column = []\n",
    "for i in range(len(ORDER_STATUS_process_status)):\n",
    "    for j in range(len(ORDER_STATUS_process_status[i])):\n",
    "        process_status_column.append(ORDER_STATUS_process_status[i][j])\n",
    "        transition_column.append(ORDER_STATUS_transition[i][j])\n",
    "        customer_contact_id_column.append(order[i])\n",
    "        typ_column.append(typ_list[i])\n",
    "        priority_column.append(priority_list[i])\n",
    "        service_order_id_column.append(i)\n",
    "        vehicle_license_plate_column.append(vehicle_list[i])\n",
    "        quality_level_column.append(quality_list[i])\n",
    "process_status_column = np.array(process_status_column)\n",
    "transition_column = np.array(transition_column)\n",
    "\n",
    "num_rows = len(range(len(transition_column)))\n",
    "\n",
    "current_department_id_column = np.array([np.random.choice([1, 4, 105]) for i in range(num_rows)])\n",
    "ORDER_STATUS_id_column = np.array([i for i in range(num_rows)])\n",
    "\n",
    "previous_department_id_column = [None]\n",
    "for i in range(1, num_rows):\n",
    "    if process_status_column[i] == 1 and process_status_column[i-1] != (1 or 2):\n",
    "        previous_department_id_column.append(None)\n",
    "    else:\n",
    "        j = 1\n",
    "        while current_department_id_column[i] == current_department_id_column[i-j]:\n",
    "            j += 1\n",
    "        previous_department_id_column.append(current_department_id_column[i-j])\n",
    "\n",
    "comp = 0\n",
    "for i in range(num_rows):\n",
    "    if comp:\n",
    "        if current_department_id_column[i] == current_department_id_column[i-1]:\n",
    "            previous_department_id_column[i] = None\n",
    "        else:\n",
    "            comp = 0\n",
    "    if previous_department_id_column[i] == None:\n",
    "        comp = 1\n",
    "\n",
    "department_change_column = [\"(null)\"]\n",
    "for i in range(1, num_rows):\n",
    "    if previous_department_id_column[i] == None and previous_department_id_column[i-1] != None:\n",
    "        department_change_column.append(\"(null)\")\n",
    "    elif previous_department_id_column[i] != previous_department_id_column[i-1]:\n",
    "        department_change_column.append(\"yes\")\n",
    "    else:\n",
    "        department_change_column.append(\"no\")\n",
    "\n",
    "num_complaints = sum(calls_per_customer)\n",
    "\n",
    "start_date = datetime.datetime.today() - datetime.timedelta(hours = 2)\n",
    "dates = list(np.random.choice(range(0, 365), num_complaints + 30, replace = True))\n",
    "dates.sort()\n",
    "dates = [int(dates[i]) for i in range(len(dates))]\n",
    "dates = [start_date + datetime.timedelta(days = dates[i]) for i in range(len(dates))]\n",
    "\n",
    "from_time_column = [None] * num_rows\n",
    "from_time_column[0]= dates[0]\n",
    "j = 1\n",
    "for i in range(1, num_rows):\n",
    "    if previous_department_id_column[i] == None and previous_department_id_column[i-1] != None:\n",
    "        from_time_column[i] = dates[j] + random.random() * datetime.timedelta(hours = int(np.random.choice(range(1, 3))))\n",
    "        j += 1\n",
    "\n",
    "for i in range(1, num_rows):\n",
    "    if from_time_column[i] == None:\n",
    "        from_time_column[i] = from_time_column[i-1] + (np.random.exponential(0.3) * datetime.timedelta(hours = 1))\n",
    "\n",
    "until_time_column = from_time_column.copy()\n",
    "until_time_column.pop(0)\n",
    "until_time_column.append(until_time_column[-1]  + (np.random.exponential(0.3) * datetime.timedelta(hours = 1)))\n",
    "\n",
    "insert_date_column = from_time_column.copy()\n",
    "modified_timestamp_column = until_time_column.copy()\n",
    "\n",
    "for i in range(num_rows):\n",
    "    insert_date_column[i] += np.random.exponential(0.2) * datetime.timedelta(minutes = 1)\n",
    "    modified_timestamp_column[i] += np.random.exponential(0.2) * datetime.timedelta(minutes = 1)\n",
    "    if previous_department_id_column[i] == None:\n",
    "        previous_department_id_column[i] = \"(null)\"\n",
    "\n",
    "# Users\n",
    "users_1 = list(range(4))\n",
    "users_4 = list(range(4, 8))\n",
    "users_105 = list(range(8, 12))\n",
    "\n",
    "user = np.random.choice(eval(f\"users_{current_department_id_column[0]}\"))\n",
    "user_id_column = [user]\n",
    "for i in range(1, num_rows):\n",
    "    if current_department_id_column[i] != current_department_id_column[i-1]:\n",
    "        num = current_department_id_column[i]\n",
    "        user = np.random.choice(eval(f\"users_{num}\"))\n",
    "    user_id_column.append(user)\n",
    "\n",
    "\n",
    "d = {\"CURRENT_DEPARTMENT_ID\": current_department_id_column, \"ID\": ORDER_STATUS_id_column,\n",
    "     \"PROCESS_STATUS\": process_status_column, \"SERVICE_ORDER_ID\": service_order_id_column,\n",
    "     \"PREVIOUS_DEPARTMENT_ID\": previous_department_id_column, \n",
    "     \"TRANSITION\": transition_column, \"FROM_TIME\": from_time_column,\n",
    "     \"UNTIL_TIME\": until_time_column, \"DEPARTMENT_CHANGE\": department_change_column, \n",
    "     \"INSERT_DATE\": insert_date_column, \"MODIFIED_TIMESTAMP_COLUMN\": modified_timestamp_column,\n",
    "     \"USER\": user_id_column, \"CUSTOMER_CONTACT_ID\": customer_contact_id_column,\n",
    "     \"PRIORITY\": priority_column, \"TYP\": typ_column,\n",
    "     \"VEHICLE_LICENSE_PLATE\": vehicle_license_plate_column, \"QUALITY_LEVEL\": quality_level_column}\n",
    "\n",
    "df = pd.DataFrame(data = d)\n",
    "\n",
    "df = df.sort_values(by = [\"FROM_TIME\"])\n"
   ]
  },
  {
   "cell_type": "code",
   "execution_count": 3,
   "metadata": {
    "collapsed": false
   },
   "outputs": [
   ],
   "source": [
    "df_time = pd.DataFrame(columns=['SERVICE_ORDER_ID', 'DURATION', 'DURATION_NUM', 'START', 'END', 'TYPE', 'CUSTOMER_CONTACT_ID'])\n",
    "\n",
    "for i in df[\"SERVICE_ORDER_ID\"].unique():\n",
    "  current = df.loc[df[\"SERVICE_ORDER_ID\"] == i]\n",
    "  start = current[\"FROM_TIME\"].min()\n",
    "  end = current[\"FROM_TIME\"].max()\n",
    "  duration = end - start\n",
    "  customer_id = current[\"CUSTOMER_CONTACT_ID\"].iloc[0]\n",
    "  license_plate = current[\"VEHICLE_LICENSE_PLATE\"].iloc[0]\n",
    "  type = current[\"TYP\"].iloc[0]\n",
    "  df_time = df_time.append({'SERVICE_ORDER_ID': i, 'DURATION': duration, 'START': start, 'END': end, 'TYPE':type, 'CUSTOMER_CONTACT_ID': customer_id, 'VEHICLE_LICENSE_PLATE': license_plate}, ignore_index=True)\n",
    "\n",
    "df_time[\"DURATION_NUM\"] = (df_time[\"DURATION\"].astype('timedelta64[s]') / 60)"
   ]
  },
  {
   "cell_type": "code",
   "execution_count": 4,
   "metadata": {
    "collapsed": false
   },
   "outputs": [
    {
     "name": "stdout",
     "output_type": "stream",
     "text": [
      "0 days 04:15:11.384204315\n"
     ]
    }
   ],
   "source": [
    "###KPI1: \"Average time until completion:\"\n",
    "print(str(df_time[\"DURATION\"].mean()))"
   ]
  },
  {
   "cell_type": "code",
   "execution_count": 5,
   "metadata": {
    "collapsed": false
   },
   "outputs": [
    {
     "data": {
      "text/plain": [
       "'0 days 03:38:05.482056'"
      ]
     },
     "execution_count": 5,
     "metadata": {
     },
     "output_type": "execute_result"
    }
   ],
   "source": [
    "#KPI2: \"Median time until completion:\" \n",
    "display(str(df_time[\"DURATION\"].median()))"
   ]
  },
  {
   "cell_type": "code",
   "execution_count": 6,
   "metadata": {
    "collapsed": false
   },
   "outputs": [
    {
     "name": "stdout",
     "output_type": "stream",
     "text": [
      "CUSTOMER_CONTACT_ID\n",
      "98    789.491667\n",
      "77    692.627778\n",
      "70    502.466667\n",
      "5     484.936364\n",
      "30    477.466667\n",
      "         ...    \n",
      "99    150.908333\n",
      "46    143.862500\n",
      "95    140.411667\n",
      "61    139.516667\n",
      "22     98.716667\n",
      "Name: DURATION_NUM, Length: 100, dtype: float64\n"
     ]
    }
   ],
   "source": [
    "#KPI3: Mean time until completion by customer:\n",
    "print(df_time.groupby(by=\"CUSTOMER_CONTACT_ID\")[\"DURATION_NUM\"].mean().sort_values(ascending=False))"
   ]
  },
  {
   "cell_type": "code",
   "execution_count": 7,
   "metadata": {
    "collapsed": false
   },
   "outputs": [
    {
     "name": "stdout",
     "output_type": "stream",
     "text": [
      "VEHICLE_LICENSE_PLATE\n",
      "22.0    403.817308\n",
      "13.0    354.635556\n",
      "16.0    316.677778\n",
      "12.0    297.840000\n",
      "6.0     297.047727\n",
      "11.0    292.996212\n",
      "7.0     287.593750\n",
      "1.0     271.640000\n",
      "17.0    269.307971\n",
      "15.0    263.578571\n",
      "19.0    239.065476\n",
      "3.0     237.819444\n",
      "9.0     233.905072\n",
      "14.0    233.239167\n",
      "5.0     232.897436\n",
      "24.0    227.696154\n",
      "8.0     224.813636\n",
      "0.0     218.209140\n",
      "20.0    218.096377\n",
      "4.0     216.505051\n",
      "23.0    216.025333\n",
      "10.0    214.607333\n",
      "18.0    211.391667\n",
      "21.0    205.285000\n",
      "2.0     182.857018\n",
      "Name: DURATION_NUM, dtype: float64\n"
     ]
    }
   ],
   "source": [
    "#KPI4: Mean time until completion by license plate number:\n",
    "print(df_time.groupby(by=\"VEHICLE_LICENSE_PLATE\")[\"DURATION_NUM\"].mean().sort_values(ascending=False))\n"
   ]
  },
  {
   "cell_type": "code",
   "execution_count": 8,
   "metadata": {
    "collapsed": false
   },
   "outputs": [
    {
     "name": "stdout",
     "output_type": "stream",
     "text": [
      "Welcome to the Meta-Questionnaire! Please make sure your data has been put in the following format:\n",
      "\n",
      "Columns: Categories\n",
      "Rows: Observations\n",
      "\n",
      "If you have a Column with Dates, please Label it as 'Time'. Make sure the dates have the format YYYY-MM-DD or YYYY/MM/DD\n",
      "We will now ask you a few questions regarding the KPI\n",
      "\n"
     ]
    }
   ],
   "source": [
    "print(\"Welcome to the Meta-Questionnaire! Please make sure your data has been put in the following format:\")\n",
    "print(\"\")\n",
    "print(\"Columns: Categories\")\n",
    "print(\"Rows: Observations\")\n",
    "print(\"\")\n",
    "print(\"If you have a Column with Dates, please Label it as 'Time'. Make sure the dates have the format YYYY-MM-DD or YYYY/MM/DD\")\n",
    "\n",
    "print(\"We will now ask you a few questions regarding the KPI\")\n",
    "print(\"\")"
   ]
  },
  {
   "cell_type": "code",
   "execution_count": 10,
   "metadata": {
    "cocalc": {
     "outputs": {
      "0": {
       "name": "input",
       "opts": {
        "password": false,
        "prompt": "What is the first KPI you want to visualize? "
       },
       "output_type": "stream",
       "value": "TZR"
      },
      "1": {
       "name": "input",
       "opts": {
        "password": false,
        "prompt": "Which pillar does it belong to? (either write it out or use coding: 1 fin, 2 process, 3 customer, 4 Learning)"
       },
       "output_type": "stream",
       "value": "2"
      },
      "2": {
       "name": "input",
       "opts": {
        "password": false,
        "prompt": "What is your performance goal for this KPI? "
       },
       "output_type": "stream",
       "value": "150"
      },
      "3": {
       "name": "input",
       "opts": {
        "password": false,
        "prompt": "How good were you performing the last time you measured? "
       },
       "output_type": "stream",
       "value": "40"
      },
      "4": {
       "name": "input",
       "opts": {
        "password": false,
        "prompt": "Should your data be recorded on a predetermined time interval? (Yes/No)"
       },
       "output_type": "stream",
       "value": "No"
      },
      "5": {
       "name": "input",
       "opts": {
        "password": false,
        "prompt": "Do you think this KPI is correltated to at least one other KPI? "
       },
       "output_type": "stream",
       "value": "No"
      },
      "6": {
       "name": "input",
       "opts": {
        "password": false,
        "prompt": "Do you want to add other KPIs? "
       },
       "output_type": "stream",
       "value": "No"
      }
     }
    },
    "collapsed": false
   },
   "outputs": [
    {
     "name": "stdout",
     "output_type": "stream",
     "text": "What is the first KPI you want to visualize?  TZR"
    },
    {
     "name": "stdout",
     "output_type": "stream",
     "text": "Which pillar does it belong to? (either write it out or use coding: 1 fin, 2 process, 3 customer, 4 Learning) 2"
    },
    {
     "name": "stdout",
     "output_type": "stream",
     "text": "What is your performance goal for this KPI?  150"
    },
    {
     "name": "stdout",
     "output_type": "stream",
     "text": "How good were you performing the last time you measured?  40"
    },
    {
     "name": "stdout",
     "output_type": "stream",
     "text": "Should your data be recorded on a predetermined time interval? (Yes/No) No"
    },
    {
     "name": "stdout",
     "output_type": "stream",
     "text": "Do you think this KPI is correltated to at least one other KPI?  No"
    },
    {
     "name": "stdout",
     "output_type": "stream",
     "text": "Do you want to add other KPIs?  No"
    }
   ],
   "source": [
    "# New class: KPIs\n",
    "class KPI:\n",
    "    \n",
    "    \"\"\"\n",
    "    name = n, pillar = p, trg = target, prf = performance, quality_dummy = qd, \n",
    "    dom_correlation = dc, strength_dom_correlation = sdc,\n",
    "    \"\"\"\n",
    "    \n",
    "    def __init__(self, n, p, trg, prf, qd = 0, dc = 0, sdc= 0):\n",
    "        self.n = n\n",
    "        self.p = p\n",
    "        self.trg = trg\n",
    "        self.prf = prf\n",
    "        self.qd = qd\n",
    "        self.dc = dc\n",
    "        self.sdc = sdc\n",
    "        \n",
    "        \n",
    "# creating a list of KPI objects\n",
    "KPIs = []\n",
    "\n",
    "n = input(\"What is the first KPI you want to visualize? \")\n",
    "p = input(\"Which pillar does it belong to? (either write it out or use coding: 1 fin, 2 process, 3 customer, 4 Learning)\")\n",
    "trg = int(input(\"What is your performance goal for this KPI? \"))\n",
    "prf = int(input(\"How good were you performing the last time you measured? \"))\n",
    "time_fiha = input(\"Should your data be recorded on a predetermined time interval? (Yes/No)\")\n",
    "q = input(\"Do you think this KPI is correltated to at least one other KPI? \")\n",
    "###Start automated Tests\n",
    "time_check = \"No\"\n",
    "flawless = \"No\"\n",
    "if \"Time\" in df:\n",
    "    df[\"Time\"] = df['Time'].astype('datetime64[ns]')\n",
    "\n",
    "    keys = randomlist = random.sample(range(1, (int(beg_row_num) - 1)), int((beg_row_num/10)))\n",
    "\n",
    "    time_check = \"Yes\"\n",
    "\n",
    "    time_lord = []\n",
    "    for i in keys:\n",
    "        diff = df[\"Time\"][i] - df[\"Time\"][i-1]\n",
    "        time_lord.append(diff)\n",
    "\n",
    "    hourish = 0\n",
    "    dayish = 0\n",
    "    weekish = 0\n",
    "    yearish = 0\n",
    "\n",
    "    for i in time_lord:\n",
    "        if i < np.timedelta64(1,'D'):\n",
    "            hourish += 1\n",
    "        elif i < np.timedelta64(1,'W'):\n",
    "            dayish += 1\n",
    "        elif i < np.timedelta64(1,'M'):\n",
    "            weekish += 1\n",
    "        elif i < np.timedelta64(1,'Y'):\n",
    "            yearish += 1\n",
    "    votelist = [hourish, dayish,weekish,yearish]\n",
    "    votelist = sorted(votelist, reverse= True)\n",
    "\n",
    "    delim = votelist[0]\n",
    "    if delim >= (len(keys)/2):\n",
    "        time_check = \"Yes\"\n",
    "    else: time_check = \"No\"\n",
    "\n",
    "    full_keys = list(df.index)\n",
    "    full_keys = full_keys[1:-1]\n",
    "\n",
    "    flawless = \"Yes\"\n",
    "\n",
    "    for i in full_keys:\n",
    "        diff1 = df[\"Time\"][i] - df[\"Time\"][i-1]\n",
    "        diff2 = df[\"Time\"][i+1] - df[\"Time\"][i]\n",
    "        if diff1 == diff2:\n",
    "            pass\n",
    "        else: flawless =  \"No\"\n",
    "        \n",
    "duplicates = df.duplicated()\n",
    "duplicates = duplicates[duplicates[:] == True]\n",
    "dupl_nr = len(duplicates)\n",
    "\n",
    "if dupl_nr > 0:\n",
    "    is_dupl = \"Yes\"\n",
    "else: is_dupl = \"No\"\n",
    "\n",
    "#We will now drop rows based off missing values:\n",
    "\n",
    "#Only drop rows where all values are missing\n",
    "full_dropped = df.dropna(how = \"all\")\n",
    "fulldroprows = 1 - ((df.shape[0] - full_dropped.shape[0]) / df.shape[0] )\n",
    "fulldroprows = round(fulldroprows, 2)\n",
    "\n",
    "#Only drop rows where some values are missing\n",
    "dropped_thresh = df.dropna(thresh = 2)\n",
    "threshdroppedrows = 1 - ((df.shape[0] - dropped_thresh.shape[0]) / df.shape[0])\n",
    "threshdroppedrows = round(threshdroppedrows, 2)\n",
    "\n",
    "#Drop all rows where any values are missing\n",
    "dropped_any = df.dropna()\n",
    "anydroppedrows = 1 - ((df.shape[0] - dropped_any.shape[0]) / df.shape[0])\n",
    "anydroppedrows = round(anydroppedrows, 2)\n",
    "\n",
    "if fulldroprows < 0.95:\n",
    "    test1 = \"F\"\n",
    "else: test1 = \"P\"\n",
    "    \n",
    "dupl_relative = (df.shape[0] - dupl_nr/ df.shape[0])\n",
    "\n",
    "if dupl_relative < 0.95:\n",
    "    test2 = \"F\"\n",
    "else: test2 = \"P\"\n",
    "\n",
    "if time_fiha == \"Yes\" and time_check == \"No\":\n",
    "    test3 = \"F\"\n",
    "else: test3 = \"P\"\n",
    "\n",
    "test4 = \"P\"\n",
    "\n",
    "if test1 == test2 ==test3 == test4:\n",
    "    secure = 0\n",
    "else: secure = 1\n",
    "\n",
    "\n",
    "qd = secure \n",
    "###End automated tests\n",
    "\n",
    "if q in [\"Yes\",\"yes\",\"Yup\",\"Y\",\"y\"]:\n",
    "    dc = input(\"To which one? \")\n",
    "    sdc = int(input(\"On a scale from 0-100: How strong do you think the correlation is? \"))/100\n",
    "    KPIs.append(KPI(n, p, prf, qd, dc, sdc))\n",
    "else:\n",
    "    KPIs.append(KPI(n, p, prf, qd))\n",
    "    \n",
    "q = input(\"Do you want to add other KPIs? \")\n",
    "if q in [\"Yes\",\"yes\",\"Yup\",\"Y\",\"y\"]:\n",
    "    i = 1\n",
    "else:\n",
    "    i = 0\n",
    "    \n",
    "while i == 1:    \n",
    "    n = input(\"Which KPI do you want to visualize next? \")\n",
    "    p = input(\"Which pillar does it belong to? (either write it out or use coding: 1 fin, 2 process, 3 customer, 4 Learning) \")\n",
    "    trg = int(input(\"What is your performance goal for this KPI? \"))\n",
    "    prf = int(input(\"How good were you performing the last time you measured? \"))\n",
    "    YN = input(\"Do you think this KPI is correltated to at least one other KPI? \")\n",
    "    if YN in [\"Yes\",\"yes\",\"Yup\",\"Y\",\"y\"]:\n",
    "        dc = input(\"To which one? \")\n",
    "        sdc = int(input(\"On a scale from 0-100: How strong do you think the correlation is? \"))/100\n",
    "        KPIs.append(KPI(n, p, prg, dc, sdc))\n",
    "    else:\n",
    "        KPIs.append(KPI(n, p, prg))\n",
    "    q = input(\"Do you want to add other KPIs? \")\n",
    "    if q in [\"Yes\",\"yes\",\"Yup\",\"Y\",\"y\"]:\n",
    "        i = 1\n",
    "    else:\n",
    "        i = 0"
   ]
  },
  {
   "cell_type": "code",
   "execution_count": 0,
   "metadata": {
    "collapsed": false
   },
   "outputs": [
   ],
   "source": [
    "\n"
   ]
  },
  {
   "cell_type": "code",
   "execution_count": 0,
   "metadata": {
    "collapsed": false
   },
   "outputs": [
   ],
   "source": [
   ]
  }
 ],
 "metadata": {
  "kernelspec": {
   "display_name": "Python 3 (system-wide)",
   "language": "python",
   "metadata": {
    "cocalc": {
     "description": "Python 3 programming language",
     "priority": 100,
     "url": "https://www.python.org/"
    }
   },
   "name": "python3",
   "resource_dir": "/ext/jupyter/kernels/python3"
  },
  "language_info": {
   "codemirror_mode": {
    "name": "ipython",
    "version": 3
   },
   "file_extension": ".py",
   "mimetype": "text/x-python",
   "name": "python",
   "nbconvert_exporter": "python",
   "pygments_lexer": "ipython3",
   "version": "3.8.5"
  }
 },
 "nbformat": 4,
 "nbformat_minor": 4
}